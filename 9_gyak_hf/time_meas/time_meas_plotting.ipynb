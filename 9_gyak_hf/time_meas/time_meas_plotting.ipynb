{
 "cells": [
  {
   "cell_type": "code",
   "execution_count": 1,
   "metadata": {},
   "outputs": [
    {
     "data": {
      "text/plain": [
       "<matplotlib.figure.Figure at 0x1bcbaa55048>"
      ]
     },
     "metadata": {},
     "output_type": "display_data"
    }
   ],
   "source": [
    "import pandas as pd\n",
    "import numpy as np\n",
    "import matplotlib.pyplot as plt\n",
    "\n",
    "plt.figure(figsize=[16,9])\n",
    "data = pd.read_csv(\"time.txt\", header = None, sep = \" \")\n",
    "data = data.groupby(0).min()\n",
    "p, q, w, y = np.polyfit(data.index,data,3)\n",
    "\n",
    "plt.plot(data.index,data[1], marker=\"o\", lw = 0, markersize=2, label=\"data\")\n",
    "plt.plot(data.index, [p*x**3+ q*x**2+w*x+y for x in data.index], label=\"fitted curve\")\n",
    "plt.legend(fontsize=22)\n",
    "plt.xlabel(\"N - matrix size\", fontsize=22)\n",
    "plt.ylabel(\"time [ms]\",fontsize=22)\n",
    "plt.title(\"Matrix multiplication: time taken for N-size square matrices\",fontsize=22)\n",
    "plt.savefig(\"time_meas_plot.png\")\n",
    "plt.show()\n"
   ]
  }
 ],
 "metadata": {
  "kernelspec": {
   "display_name": "Python 3",
   "language": "python",
   "name": "python3"
  },
  "language_info": {
   "codemirror_mode": {
    "name": "ipython",
    "version": 3
   },
   "file_extension": ".py",
   "mimetype": "text/x-python",
   "name": "python",
   "nbconvert_exporter": "python",
   "pygments_lexer": "ipython3",
   "version": "3.6.6"
  }
 },
 "nbformat": 4,
 "nbformat_minor": 2
}
